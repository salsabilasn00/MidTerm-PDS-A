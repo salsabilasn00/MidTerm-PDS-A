{
  "nbformat": 4,
  "nbformat_minor": 0,
  "metadata": {
    "colab": {
      "provenance": []
    },
    "kernelspec": {
      "name": "python3",
      "display_name": "Python 3"
    },
    "language_info": {
      "name": "python"
    }
  },
  "cells": [
    {
      "cell_type": "markdown",
      "source": [
        "#Soal 6"
      ],
      "metadata": {
        "id": "-NY4FJdJOLzk"
      }
    },
    {
      "cell_type": "markdown",
      "source": [
        "Nenek Tasya merupakan seorang lansia yang hidup sendirian. Di kehidupan sehari hari, jika ingin bepergian, Nenek Tasya selalu menggunakan taksi. Sayangnya, sering kali uang nenek tidak cukup untuk membayar tarif taksi. Oleh karena itu, nenek meminta tolong kepada kamu yang merupakan mahasiswa sains data untuk membuat model yang dapat mengestimasi harga taksi yang akan digunakan nenek.\n",
        "\n",
        "Dengan dataset taxi_pricing.csv yang berisi record perjalanan beserta tarifnya:\n",
        "* Buatlah model untuk memprediksi harga taksi menggunakan multiple linear regression\n",
        "* Tuliskan persamaan matematis akhir dari model yang telah  dibuat\n",
        "* Hitunglah dua metrik evaluasi untuk mengukur performa model (Rsquare dan RMSE).\n",
        "* Lakukan analisis yang mendalam mengenai bentuk model yang telah dibuat, beserta analisis metrik evaluasinya"
      ],
      "metadata": {
        "id": "K7yLkJUoLZaH"
      }
    },
    {
      "cell_type": "code",
      "execution_count": 1,
      "metadata": {
        "colab": {
          "base_uri": "https://localhost:8080/"
        },
        "id": "LwS19VFJMyHm",
        "outputId": "363306b9-328e-4f72-eb23-86d4a7959bd3"
      },
      "outputs": [
        {
          "output_type": "stream",
          "name": "stdout",
          "text": [
            "Mounted at /content/drive\n"
          ]
        }
      ],
      "source": [
        "from google.colab import drive\n",
        "drive.mount('/content/drive')"
      ]
    },
    {
      "cell_type": "code",
      "source": [
        "data = \"/content/drive/MyDrive/uts_pds/taxi_trip_pricing.csv\""
      ],
      "metadata": {
        "id": "yGOIJ_o0Q5id"
      },
      "execution_count": 2,
      "outputs": []
    },
    {
      "cell_type": "code",
      "source": [
        "import pandas as pd\n",
        "import numpy as np"
      ],
      "metadata": {
        "id": "2EjZ9v6GSa7B"
      },
      "execution_count": 4,
      "outputs": []
    },
    {
      "cell_type": "code",
      "source": [
        "data = pd.read_csv(data)"
      ],
      "metadata": {
        "id": "9Zbd7MGeSZLj"
      },
      "execution_count": 8,
      "outputs": []
    },
    {
      "cell_type": "code",
      "source": [
        "data.head()"
      ],
      "metadata": {
        "colab": {
          "base_uri": "https://localhost:8080/",
          "height": 226
        },
        "id": "FU9zl42CSh6v",
        "outputId": "285bdfda-4ea0-4bac-ca36-d6c5d0eb9001"
      },
      "execution_count": 9,
      "outputs": [
        {
          "output_type": "execute_result",
          "data": {
            "text/plain": [
              "   Trip_Distance_km Time_of_Day Day_of_Week  Passenger_Count  \\\n",
              "0             19.35     Morning     Weekday              3.0   \n",
              "1             47.59   Afternoon     Weekday              1.0   \n",
              "2             36.87     Evening     Weekend              1.0   \n",
              "3             30.33     Evening     Weekday              4.0   \n",
              "4               NaN     Evening     Weekday              3.0   \n",
              "\n",
              "  Traffic_Conditions Weather  Base_Fare  Per_Km_Rate  Per_Minute_Rate  \\\n",
              "0                Low   Clear       3.56         0.80             0.32   \n",
              "1               High   Clear        NaN         0.62             0.43   \n",
              "2               High   Clear       2.70         1.21             0.15   \n",
              "3                Low     NaN       3.48         0.51             0.15   \n",
              "4               High   Clear       2.93         0.63             0.32   \n",
              "\n",
              "   Trip_Duration_Minutes  Trip_Price  \n",
              "0                  53.82     36.2624  \n",
              "1                  40.57         NaN  \n",
              "2                  37.27     52.9032  \n",
              "3                 116.81     36.4698  \n",
              "4                  22.64     15.6180  "
            ],
            "text/html": [
              "\n",
              "  <div id=\"df-1be50e56-cbb0-48cf-81a3-4f0ab017310e\" class=\"colab-df-container\">\n",
              "    <div>\n",
              "<style scoped>\n",
              "    .dataframe tbody tr th:only-of-type {\n",
              "        vertical-align: middle;\n",
              "    }\n",
              "\n",
              "    .dataframe tbody tr th {\n",
              "        vertical-align: top;\n",
              "    }\n",
              "\n",
              "    .dataframe thead th {\n",
              "        text-align: right;\n",
              "    }\n",
              "</style>\n",
              "<table border=\"1\" class=\"dataframe\">\n",
              "  <thead>\n",
              "    <tr style=\"text-align: right;\">\n",
              "      <th></th>\n",
              "      <th>Trip_Distance_km</th>\n",
              "      <th>Time_of_Day</th>\n",
              "      <th>Day_of_Week</th>\n",
              "      <th>Passenger_Count</th>\n",
              "      <th>Traffic_Conditions</th>\n",
              "      <th>Weather</th>\n",
              "      <th>Base_Fare</th>\n",
              "      <th>Per_Km_Rate</th>\n",
              "      <th>Per_Minute_Rate</th>\n",
              "      <th>Trip_Duration_Minutes</th>\n",
              "      <th>Trip_Price</th>\n",
              "    </tr>\n",
              "  </thead>\n",
              "  <tbody>\n",
              "    <tr>\n",
              "      <th>0</th>\n",
              "      <td>19.35</td>\n",
              "      <td>Morning</td>\n",
              "      <td>Weekday</td>\n",
              "      <td>3.0</td>\n",
              "      <td>Low</td>\n",
              "      <td>Clear</td>\n",
              "      <td>3.56</td>\n",
              "      <td>0.80</td>\n",
              "      <td>0.32</td>\n",
              "      <td>53.82</td>\n",
              "      <td>36.2624</td>\n",
              "    </tr>\n",
              "    <tr>\n",
              "      <th>1</th>\n",
              "      <td>47.59</td>\n",
              "      <td>Afternoon</td>\n",
              "      <td>Weekday</td>\n",
              "      <td>1.0</td>\n",
              "      <td>High</td>\n",
              "      <td>Clear</td>\n",
              "      <td>NaN</td>\n",
              "      <td>0.62</td>\n",
              "      <td>0.43</td>\n",
              "      <td>40.57</td>\n",
              "      <td>NaN</td>\n",
              "    </tr>\n",
              "    <tr>\n",
              "      <th>2</th>\n",
              "      <td>36.87</td>\n",
              "      <td>Evening</td>\n",
              "      <td>Weekend</td>\n",
              "      <td>1.0</td>\n",
              "      <td>High</td>\n",
              "      <td>Clear</td>\n",
              "      <td>2.70</td>\n",
              "      <td>1.21</td>\n",
              "      <td>0.15</td>\n",
              "      <td>37.27</td>\n",
              "      <td>52.9032</td>\n",
              "    </tr>\n",
              "    <tr>\n",
              "      <th>3</th>\n",
              "      <td>30.33</td>\n",
              "      <td>Evening</td>\n",
              "      <td>Weekday</td>\n",
              "      <td>4.0</td>\n",
              "      <td>Low</td>\n",
              "      <td>NaN</td>\n",
              "      <td>3.48</td>\n",
              "      <td>0.51</td>\n",
              "      <td>0.15</td>\n",
              "      <td>116.81</td>\n",
              "      <td>36.4698</td>\n",
              "    </tr>\n",
              "    <tr>\n",
              "      <th>4</th>\n",
              "      <td>NaN</td>\n",
              "      <td>Evening</td>\n",
              "      <td>Weekday</td>\n",
              "      <td>3.0</td>\n",
              "      <td>High</td>\n",
              "      <td>Clear</td>\n",
              "      <td>2.93</td>\n",
              "      <td>0.63</td>\n",
              "      <td>0.32</td>\n",
              "      <td>22.64</td>\n",
              "      <td>15.6180</td>\n",
              "    </tr>\n",
              "  </tbody>\n",
              "</table>\n",
              "</div>\n",
              "    <div class=\"colab-df-buttons\">\n",
              "\n",
              "  <div class=\"colab-df-container\">\n",
              "    <button class=\"colab-df-convert\" onclick=\"convertToInteractive('df-1be50e56-cbb0-48cf-81a3-4f0ab017310e')\"\n",
              "            title=\"Convert this dataframe to an interactive table.\"\n",
              "            style=\"display:none;\">\n",
              "\n",
              "  <svg xmlns=\"http://www.w3.org/2000/svg\" height=\"24px\" viewBox=\"0 -960 960 960\">\n",
              "    <path d=\"M120-120v-720h720v720H120Zm60-500h600v-160H180v160Zm220 220h160v-160H400v160Zm0 220h160v-160H400v160ZM180-400h160v-160H180v160Zm440 0h160v-160H620v160ZM180-180h160v-160H180v160Zm440 0h160v-160H620v160Z\"/>\n",
              "  </svg>\n",
              "    </button>\n",
              "\n",
              "  <style>\n",
              "    .colab-df-container {\n",
              "      display:flex;\n",
              "      gap: 12px;\n",
              "    }\n",
              "\n",
              "    .colab-df-convert {\n",
              "      background-color: #E8F0FE;\n",
              "      border: none;\n",
              "      border-radius: 50%;\n",
              "      cursor: pointer;\n",
              "      display: none;\n",
              "      fill: #1967D2;\n",
              "      height: 32px;\n",
              "      padding: 0 0 0 0;\n",
              "      width: 32px;\n",
              "    }\n",
              "\n",
              "    .colab-df-convert:hover {\n",
              "      background-color: #E2EBFA;\n",
              "      box-shadow: 0px 1px 2px rgba(60, 64, 67, 0.3), 0px 1px 3px 1px rgba(60, 64, 67, 0.15);\n",
              "      fill: #174EA6;\n",
              "    }\n",
              "\n",
              "    .colab-df-buttons div {\n",
              "      margin-bottom: 4px;\n",
              "    }\n",
              "\n",
              "    [theme=dark] .colab-df-convert {\n",
              "      background-color: #3B4455;\n",
              "      fill: #D2E3FC;\n",
              "    }\n",
              "\n",
              "    [theme=dark] .colab-df-convert:hover {\n",
              "      background-color: #434B5C;\n",
              "      box-shadow: 0px 1px 3px 1px rgba(0, 0, 0, 0.15);\n",
              "      filter: drop-shadow(0px 1px 2px rgba(0, 0, 0, 0.3));\n",
              "      fill: #FFFFFF;\n",
              "    }\n",
              "  </style>\n",
              "\n",
              "    <script>\n",
              "      const buttonEl =\n",
              "        document.querySelector('#df-1be50e56-cbb0-48cf-81a3-4f0ab017310e button.colab-df-convert');\n",
              "      buttonEl.style.display =\n",
              "        google.colab.kernel.accessAllowed ? 'block' : 'none';\n",
              "\n",
              "      async function convertToInteractive(key) {\n",
              "        const element = document.querySelector('#df-1be50e56-cbb0-48cf-81a3-4f0ab017310e');\n",
              "        const dataTable =\n",
              "          await google.colab.kernel.invokeFunction('convertToInteractive',\n",
              "                                                    [key], {});\n",
              "        if (!dataTable) return;\n",
              "\n",
              "        const docLinkHtml = 'Like what you see? Visit the ' +\n",
              "          '<a target=\"_blank\" href=https://colab.research.google.com/notebooks/data_table.ipynb>data table notebook</a>'\n",
              "          + ' to learn more about interactive tables.';\n",
              "        element.innerHTML = '';\n",
              "        dataTable['output_type'] = 'display_data';\n",
              "        await google.colab.output.renderOutput(dataTable, element);\n",
              "        const docLink = document.createElement('div');\n",
              "        docLink.innerHTML = docLinkHtml;\n",
              "        element.appendChild(docLink);\n",
              "      }\n",
              "    </script>\n",
              "  </div>\n",
              "\n",
              "\n",
              "    <div id=\"df-eecd44a4-a583-4028-a477-b6e096611265\">\n",
              "      <button class=\"colab-df-quickchart\" onclick=\"quickchart('df-eecd44a4-a583-4028-a477-b6e096611265')\"\n",
              "                title=\"Suggest charts\"\n",
              "                style=\"display:none;\">\n",
              "\n",
              "<svg xmlns=\"http://www.w3.org/2000/svg\" height=\"24px\"viewBox=\"0 0 24 24\"\n",
              "     width=\"24px\">\n",
              "    <g>\n",
              "        <path d=\"M19 3H5c-1.1 0-2 .9-2 2v14c0 1.1.9 2 2 2h14c1.1 0 2-.9 2-2V5c0-1.1-.9-2-2-2zM9 17H7v-7h2v7zm4 0h-2V7h2v10zm4 0h-2v-4h2v4z\"/>\n",
              "    </g>\n",
              "</svg>\n",
              "      </button>\n",
              "\n",
              "<style>\n",
              "  .colab-df-quickchart {\n",
              "      --bg-color: #E8F0FE;\n",
              "      --fill-color: #1967D2;\n",
              "      --hover-bg-color: #E2EBFA;\n",
              "      --hover-fill-color: #174EA6;\n",
              "      --disabled-fill-color: #AAA;\n",
              "      --disabled-bg-color: #DDD;\n",
              "  }\n",
              "\n",
              "  [theme=dark] .colab-df-quickchart {\n",
              "      --bg-color: #3B4455;\n",
              "      --fill-color: #D2E3FC;\n",
              "      --hover-bg-color: #434B5C;\n",
              "      --hover-fill-color: #FFFFFF;\n",
              "      --disabled-bg-color: #3B4455;\n",
              "      --disabled-fill-color: #666;\n",
              "  }\n",
              "\n",
              "  .colab-df-quickchart {\n",
              "    background-color: var(--bg-color);\n",
              "    border: none;\n",
              "    border-radius: 50%;\n",
              "    cursor: pointer;\n",
              "    display: none;\n",
              "    fill: var(--fill-color);\n",
              "    height: 32px;\n",
              "    padding: 0;\n",
              "    width: 32px;\n",
              "  }\n",
              "\n",
              "  .colab-df-quickchart:hover {\n",
              "    background-color: var(--hover-bg-color);\n",
              "    box-shadow: 0 1px 2px rgba(60, 64, 67, 0.3), 0 1px 3px 1px rgba(60, 64, 67, 0.15);\n",
              "    fill: var(--button-hover-fill-color);\n",
              "  }\n",
              "\n",
              "  .colab-df-quickchart-complete:disabled,\n",
              "  .colab-df-quickchart-complete:disabled:hover {\n",
              "    background-color: var(--disabled-bg-color);\n",
              "    fill: var(--disabled-fill-color);\n",
              "    box-shadow: none;\n",
              "  }\n",
              "\n",
              "  .colab-df-spinner {\n",
              "    border: 2px solid var(--fill-color);\n",
              "    border-color: transparent;\n",
              "    border-bottom-color: var(--fill-color);\n",
              "    animation:\n",
              "      spin 1s steps(1) infinite;\n",
              "  }\n",
              "\n",
              "  @keyframes spin {\n",
              "    0% {\n",
              "      border-color: transparent;\n",
              "      border-bottom-color: var(--fill-color);\n",
              "      border-left-color: var(--fill-color);\n",
              "    }\n",
              "    20% {\n",
              "      border-color: transparent;\n",
              "      border-left-color: var(--fill-color);\n",
              "      border-top-color: var(--fill-color);\n",
              "    }\n",
              "    30% {\n",
              "      border-color: transparent;\n",
              "      border-left-color: var(--fill-color);\n",
              "      border-top-color: var(--fill-color);\n",
              "      border-right-color: var(--fill-color);\n",
              "    }\n",
              "    40% {\n",
              "      border-color: transparent;\n",
              "      border-right-color: var(--fill-color);\n",
              "      border-top-color: var(--fill-color);\n",
              "    }\n",
              "    60% {\n",
              "      border-color: transparent;\n",
              "      border-right-color: var(--fill-color);\n",
              "    }\n",
              "    80% {\n",
              "      border-color: transparent;\n",
              "      border-right-color: var(--fill-color);\n",
              "      border-bottom-color: var(--fill-color);\n",
              "    }\n",
              "    90% {\n",
              "      border-color: transparent;\n",
              "      border-bottom-color: var(--fill-color);\n",
              "    }\n",
              "  }\n",
              "</style>\n",
              "\n",
              "      <script>\n",
              "        async function quickchart(key) {\n",
              "          const quickchartButtonEl =\n",
              "            document.querySelector('#' + key + ' button');\n",
              "          quickchartButtonEl.disabled = true;  // To prevent multiple clicks.\n",
              "          quickchartButtonEl.classList.add('colab-df-spinner');\n",
              "          try {\n",
              "            const charts = await google.colab.kernel.invokeFunction(\n",
              "                'suggestCharts', [key], {});\n",
              "          } catch (error) {\n",
              "            console.error('Error during call to suggestCharts:', error);\n",
              "          }\n",
              "          quickchartButtonEl.classList.remove('colab-df-spinner');\n",
              "          quickchartButtonEl.classList.add('colab-df-quickchart-complete');\n",
              "        }\n",
              "        (() => {\n",
              "          let quickchartButtonEl =\n",
              "            document.querySelector('#df-eecd44a4-a583-4028-a477-b6e096611265 button');\n",
              "          quickchartButtonEl.style.display =\n",
              "            google.colab.kernel.accessAllowed ? 'block' : 'none';\n",
              "        })();\n",
              "      </script>\n",
              "    </div>\n",
              "\n",
              "    </div>\n",
              "  </div>\n"
            ],
            "application/vnd.google.colaboratory.intrinsic+json": {
              "type": "dataframe",
              "variable_name": "data",
              "summary": "{\n  \"name\": \"data\",\n  \"rows\": 1000,\n  \"fields\": [\n    {\n      \"column\": \"Trip_Distance_km\",\n      \"properties\": {\n        \"dtype\": \"number\",\n        \"std\": 19.905299790562722,\n        \"min\": 1.23,\n        \"max\": 146.0670471598387,\n        \"num_unique_values\": 867,\n        \"samples\": [\n          39.04,\n          19.37,\n          49.36\n        ],\n        \"semantic_type\": \"\",\n        \"description\": \"\"\n      }\n    },\n    {\n      \"column\": \"Time_of_Day\",\n      \"properties\": {\n        \"dtype\": \"category\",\n        \"num_unique_values\": 4,\n        \"samples\": [\n          \"Afternoon\",\n          \"Night\",\n          \"Morning\"\n        ],\n        \"semantic_type\": \"\",\n        \"description\": \"\"\n      }\n    },\n    {\n      \"column\": \"Day_of_Week\",\n      \"properties\": {\n        \"dtype\": \"category\",\n        \"num_unique_values\": 2,\n        \"samples\": [\n          \"Weekend\",\n          \"Weekday\"\n        ],\n        \"semantic_type\": \"\",\n        \"description\": \"\"\n      }\n    },\n    {\n      \"column\": \"Passenger_Count\",\n      \"properties\": {\n        \"dtype\": \"number\",\n        \"std\": 1.1022491262257013,\n        \"min\": 1.0,\n        \"max\": 4.0,\n        \"num_unique_values\": 4,\n        \"samples\": [\n          1.0,\n          2.0\n        ],\n        \"semantic_type\": \"\",\n        \"description\": \"\"\n      }\n    },\n    {\n      \"column\": \"Traffic_Conditions\",\n      \"properties\": {\n        \"dtype\": \"category\",\n        \"num_unique_values\": 3,\n        \"samples\": [\n          \"Low\",\n          \"High\"\n        ],\n        \"semantic_type\": \"\",\n        \"description\": \"\"\n      }\n    },\n    {\n      \"column\": \"Weather\",\n      \"properties\": {\n        \"dtype\": \"category\",\n        \"num_unique_values\": 3,\n        \"samples\": [\n          \"Clear\",\n          \"Rain\"\n        ],\n        \"semantic_type\": \"\",\n        \"description\": \"\"\n      }\n    },\n    {\n      \"column\": \"Base_Fare\",\n      \"properties\": {\n        \"dtype\": \"number\",\n        \"std\": 0.8701619278680248,\n        \"min\": 2.01,\n        \"max\": 5.0,\n        \"num_unique_values\": 290,\n        \"samples\": [\n          3.35,\n          3.62\n        ],\n        \"semantic_type\": \"\",\n        \"description\": \"\"\n      }\n    },\n    {\n      \"column\": \"Per_Km_Rate\",\n      \"properties\": {\n        \"dtype\": \"number\",\n        \"std\": 0.4298158687087343,\n        \"min\": 0.5,\n        \"max\": 2.0,\n        \"num_unique_values\": 150,\n        \"samples\": [\n          0.96,\n          0.82\n        ],\n        \"semantic_type\": \"\",\n        \"description\": \"\"\n      }\n    },\n    {\n      \"column\": \"Per_Minute_Rate\",\n      \"properties\": {\n        \"dtype\": \"number\",\n        \"std\": 0.11559177133688461,\n        \"min\": 0.1,\n        \"max\": 0.5,\n        \"num_unique_values\": 41,\n        \"samples\": [\n          0.42,\n          0.25\n        ],\n        \"semantic_type\": \"\",\n        \"description\": \"\"\n      }\n    },\n    {\n      \"column\": \"Trip_Duration_Minutes\",\n      \"properties\": {\n        \"dtype\": \"number\",\n        \"std\": 32.1544064686338,\n        \"min\": 5.01,\n        \"max\": 119.84,\n        \"num_unique_values\": 917,\n        \"samples\": [\n          72.77,\n          95.55\n        ],\n        \"semantic_type\": \"\",\n        \"description\": \"\"\n      }\n    },\n    {\n      \"column\": \"Trip_Price\",\n      \"properties\": {\n        \"dtype\": \"number\",\n        \"std\": 40.46979055020966,\n        \"min\": 6.1269,\n        \"max\": 332.0436886774302,\n        \"num_unique_values\": 951,\n        \"samples\": [\n          31.3844,\n          97.4848\n        ],\n        \"semantic_type\": \"\",\n        \"description\": \"\"\n      }\n    }\n  ]\n}"
            }
          },
          "metadata": {},
          "execution_count": 9
        }
      ]
    },
    {
      "cell_type": "code",
      "source": [
        "data = data.drop(columns=['Time_of_Day', 'Day_of_Week','Traffic_Conditions','Weather'])"
      ],
      "metadata": {
        "id": "gO-erf9kS7gk"
      },
      "execution_count": 13,
      "outputs": []
    },
    {
      "cell_type": "code",
      "source": [
        "data.head()"
      ],
      "metadata": {
        "colab": {
          "base_uri": "https://localhost:8080/",
          "height": 206
        },
        "id": "Yw8x0Pz4TXbT",
        "outputId": "2855afa4-bd2f-43d9-8275-315d7ad9a81e"
      },
      "execution_count": 14,
      "outputs": [
        {
          "output_type": "execute_result",
          "data": {
            "text/plain": [
              "   Trip_Distance_km  Passenger_Count  Base_Fare  Per_Km_Rate  Per_Minute_Rate  \\\n",
              "0             19.35              3.0       3.56         0.80             0.32   \n",
              "1             47.59              1.0        NaN         0.62             0.43   \n",
              "2             36.87              1.0       2.70         1.21             0.15   \n",
              "3             30.33              4.0       3.48         0.51             0.15   \n",
              "4               NaN              3.0       2.93         0.63             0.32   \n",
              "\n",
              "   Trip_Duration_Minutes  Trip_Price  \n",
              "0                  53.82     36.2624  \n",
              "1                  40.57         NaN  \n",
              "2                  37.27     52.9032  \n",
              "3                 116.81     36.4698  \n",
              "4                  22.64     15.6180  "
            ],
            "text/html": [
              "\n",
              "  <div id=\"df-2e35a1e4-01be-4ff6-862e-ebf1840f350a\" class=\"colab-df-container\">\n",
              "    <div>\n",
              "<style scoped>\n",
              "    .dataframe tbody tr th:only-of-type {\n",
              "        vertical-align: middle;\n",
              "    }\n",
              "\n",
              "    .dataframe tbody tr th {\n",
              "        vertical-align: top;\n",
              "    }\n",
              "\n",
              "    .dataframe thead th {\n",
              "        text-align: right;\n",
              "    }\n",
              "</style>\n",
              "<table border=\"1\" class=\"dataframe\">\n",
              "  <thead>\n",
              "    <tr style=\"text-align: right;\">\n",
              "      <th></th>\n",
              "      <th>Trip_Distance_km</th>\n",
              "      <th>Passenger_Count</th>\n",
              "      <th>Base_Fare</th>\n",
              "      <th>Per_Km_Rate</th>\n",
              "      <th>Per_Minute_Rate</th>\n",
              "      <th>Trip_Duration_Minutes</th>\n",
              "      <th>Trip_Price</th>\n",
              "    </tr>\n",
              "  </thead>\n",
              "  <tbody>\n",
              "    <tr>\n",
              "      <th>0</th>\n",
              "      <td>19.35</td>\n",
              "      <td>3.0</td>\n",
              "      <td>3.56</td>\n",
              "      <td>0.80</td>\n",
              "      <td>0.32</td>\n",
              "      <td>53.82</td>\n",
              "      <td>36.2624</td>\n",
              "    </tr>\n",
              "    <tr>\n",
              "      <th>1</th>\n",
              "      <td>47.59</td>\n",
              "      <td>1.0</td>\n",
              "      <td>NaN</td>\n",
              "      <td>0.62</td>\n",
              "      <td>0.43</td>\n",
              "      <td>40.57</td>\n",
              "      <td>NaN</td>\n",
              "    </tr>\n",
              "    <tr>\n",
              "      <th>2</th>\n",
              "      <td>36.87</td>\n",
              "      <td>1.0</td>\n",
              "      <td>2.70</td>\n",
              "      <td>1.21</td>\n",
              "      <td>0.15</td>\n",
              "      <td>37.27</td>\n",
              "      <td>52.9032</td>\n",
              "    </tr>\n",
              "    <tr>\n",
              "      <th>3</th>\n",
              "      <td>30.33</td>\n",
              "      <td>4.0</td>\n",
              "      <td>3.48</td>\n",
              "      <td>0.51</td>\n",
              "      <td>0.15</td>\n",
              "      <td>116.81</td>\n",
              "      <td>36.4698</td>\n",
              "    </tr>\n",
              "    <tr>\n",
              "      <th>4</th>\n",
              "      <td>NaN</td>\n",
              "      <td>3.0</td>\n",
              "      <td>2.93</td>\n",
              "      <td>0.63</td>\n",
              "      <td>0.32</td>\n",
              "      <td>22.64</td>\n",
              "      <td>15.6180</td>\n",
              "    </tr>\n",
              "  </tbody>\n",
              "</table>\n",
              "</div>\n",
              "    <div class=\"colab-df-buttons\">\n",
              "\n",
              "  <div class=\"colab-df-container\">\n",
              "    <button class=\"colab-df-convert\" onclick=\"convertToInteractive('df-2e35a1e4-01be-4ff6-862e-ebf1840f350a')\"\n",
              "            title=\"Convert this dataframe to an interactive table.\"\n",
              "            style=\"display:none;\">\n",
              "\n",
              "  <svg xmlns=\"http://www.w3.org/2000/svg\" height=\"24px\" viewBox=\"0 -960 960 960\">\n",
              "    <path d=\"M120-120v-720h720v720H120Zm60-500h600v-160H180v160Zm220 220h160v-160H400v160Zm0 220h160v-160H400v160ZM180-400h160v-160H180v160Zm440 0h160v-160H620v160ZM180-180h160v-160H180v160Zm440 0h160v-160H620v160Z\"/>\n",
              "  </svg>\n",
              "    </button>\n",
              "\n",
              "  <style>\n",
              "    .colab-df-container {\n",
              "      display:flex;\n",
              "      gap: 12px;\n",
              "    }\n",
              "\n",
              "    .colab-df-convert {\n",
              "      background-color: #E8F0FE;\n",
              "      border: none;\n",
              "      border-radius: 50%;\n",
              "      cursor: pointer;\n",
              "      display: none;\n",
              "      fill: #1967D2;\n",
              "      height: 32px;\n",
              "      padding: 0 0 0 0;\n",
              "      width: 32px;\n",
              "    }\n",
              "\n",
              "    .colab-df-convert:hover {\n",
              "      background-color: #E2EBFA;\n",
              "      box-shadow: 0px 1px 2px rgba(60, 64, 67, 0.3), 0px 1px 3px 1px rgba(60, 64, 67, 0.15);\n",
              "      fill: #174EA6;\n",
              "    }\n",
              "\n",
              "    .colab-df-buttons div {\n",
              "      margin-bottom: 4px;\n",
              "    }\n",
              "\n",
              "    [theme=dark] .colab-df-convert {\n",
              "      background-color: #3B4455;\n",
              "      fill: #D2E3FC;\n",
              "    }\n",
              "\n",
              "    [theme=dark] .colab-df-convert:hover {\n",
              "      background-color: #434B5C;\n",
              "      box-shadow: 0px 1px 3px 1px rgba(0, 0, 0, 0.15);\n",
              "      filter: drop-shadow(0px 1px 2px rgba(0, 0, 0, 0.3));\n",
              "      fill: #FFFFFF;\n",
              "    }\n",
              "  </style>\n",
              "\n",
              "    <script>\n",
              "      const buttonEl =\n",
              "        document.querySelector('#df-2e35a1e4-01be-4ff6-862e-ebf1840f350a button.colab-df-convert');\n",
              "      buttonEl.style.display =\n",
              "        google.colab.kernel.accessAllowed ? 'block' : 'none';\n",
              "\n",
              "      async function convertToInteractive(key) {\n",
              "        const element = document.querySelector('#df-2e35a1e4-01be-4ff6-862e-ebf1840f350a');\n",
              "        const dataTable =\n",
              "          await google.colab.kernel.invokeFunction('convertToInteractive',\n",
              "                                                    [key], {});\n",
              "        if (!dataTable) return;\n",
              "\n",
              "        const docLinkHtml = 'Like what you see? Visit the ' +\n",
              "          '<a target=\"_blank\" href=https://colab.research.google.com/notebooks/data_table.ipynb>data table notebook</a>'\n",
              "          + ' to learn more about interactive tables.';\n",
              "        element.innerHTML = '';\n",
              "        dataTable['output_type'] = 'display_data';\n",
              "        await google.colab.output.renderOutput(dataTable, element);\n",
              "        const docLink = document.createElement('div');\n",
              "        docLink.innerHTML = docLinkHtml;\n",
              "        element.appendChild(docLink);\n",
              "      }\n",
              "    </script>\n",
              "  </div>\n",
              "\n",
              "\n",
              "    <div id=\"df-d755754a-049d-4bb0-be2d-550eeb953e43\">\n",
              "      <button class=\"colab-df-quickchart\" onclick=\"quickchart('df-d755754a-049d-4bb0-be2d-550eeb953e43')\"\n",
              "                title=\"Suggest charts\"\n",
              "                style=\"display:none;\">\n",
              "\n",
              "<svg xmlns=\"http://www.w3.org/2000/svg\" height=\"24px\"viewBox=\"0 0 24 24\"\n",
              "     width=\"24px\">\n",
              "    <g>\n",
              "        <path d=\"M19 3H5c-1.1 0-2 .9-2 2v14c0 1.1.9 2 2 2h14c1.1 0 2-.9 2-2V5c0-1.1-.9-2-2-2zM9 17H7v-7h2v7zm4 0h-2V7h2v10zm4 0h-2v-4h2v4z\"/>\n",
              "    </g>\n",
              "</svg>\n",
              "      </button>\n",
              "\n",
              "<style>\n",
              "  .colab-df-quickchart {\n",
              "      --bg-color: #E8F0FE;\n",
              "      --fill-color: #1967D2;\n",
              "      --hover-bg-color: #E2EBFA;\n",
              "      --hover-fill-color: #174EA6;\n",
              "      --disabled-fill-color: #AAA;\n",
              "      --disabled-bg-color: #DDD;\n",
              "  }\n",
              "\n",
              "  [theme=dark] .colab-df-quickchart {\n",
              "      --bg-color: #3B4455;\n",
              "      --fill-color: #D2E3FC;\n",
              "      --hover-bg-color: #434B5C;\n",
              "      --hover-fill-color: #FFFFFF;\n",
              "      --disabled-bg-color: #3B4455;\n",
              "      --disabled-fill-color: #666;\n",
              "  }\n",
              "\n",
              "  .colab-df-quickchart {\n",
              "    background-color: var(--bg-color);\n",
              "    border: none;\n",
              "    border-radius: 50%;\n",
              "    cursor: pointer;\n",
              "    display: none;\n",
              "    fill: var(--fill-color);\n",
              "    height: 32px;\n",
              "    padding: 0;\n",
              "    width: 32px;\n",
              "  }\n",
              "\n",
              "  .colab-df-quickchart:hover {\n",
              "    background-color: var(--hover-bg-color);\n",
              "    box-shadow: 0 1px 2px rgba(60, 64, 67, 0.3), 0 1px 3px 1px rgba(60, 64, 67, 0.15);\n",
              "    fill: var(--button-hover-fill-color);\n",
              "  }\n",
              "\n",
              "  .colab-df-quickchart-complete:disabled,\n",
              "  .colab-df-quickchart-complete:disabled:hover {\n",
              "    background-color: var(--disabled-bg-color);\n",
              "    fill: var(--disabled-fill-color);\n",
              "    box-shadow: none;\n",
              "  }\n",
              "\n",
              "  .colab-df-spinner {\n",
              "    border: 2px solid var(--fill-color);\n",
              "    border-color: transparent;\n",
              "    border-bottom-color: var(--fill-color);\n",
              "    animation:\n",
              "      spin 1s steps(1) infinite;\n",
              "  }\n",
              "\n",
              "  @keyframes spin {\n",
              "    0% {\n",
              "      border-color: transparent;\n",
              "      border-bottom-color: var(--fill-color);\n",
              "      border-left-color: var(--fill-color);\n",
              "    }\n",
              "    20% {\n",
              "      border-color: transparent;\n",
              "      border-left-color: var(--fill-color);\n",
              "      border-top-color: var(--fill-color);\n",
              "    }\n",
              "    30% {\n",
              "      border-color: transparent;\n",
              "      border-left-color: var(--fill-color);\n",
              "      border-top-color: var(--fill-color);\n",
              "      border-right-color: var(--fill-color);\n",
              "    }\n",
              "    40% {\n",
              "      border-color: transparent;\n",
              "      border-right-color: var(--fill-color);\n",
              "      border-top-color: var(--fill-color);\n",
              "    }\n",
              "    60% {\n",
              "      border-color: transparent;\n",
              "      border-right-color: var(--fill-color);\n",
              "    }\n",
              "    80% {\n",
              "      border-color: transparent;\n",
              "      border-right-color: var(--fill-color);\n",
              "      border-bottom-color: var(--fill-color);\n",
              "    }\n",
              "    90% {\n",
              "      border-color: transparent;\n",
              "      border-bottom-color: var(--fill-color);\n",
              "    }\n",
              "  }\n",
              "</style>\n",
              "\n",
              "      <script>\n",
              "        async function quickchart(key) {\n",
              "          const quickchartButtonEl =\n",
              "            document.querySelector('#' + key + ' button');\n",
              "          quickchartButtonEl.disabled = true;  // To prevent multiple clicks.\n",
              "          quickchartButtonEl.classList.add('colab-df-spinner');\n",
              "          try {\n",
              "            const charts = await google.colab.kernel.invokeFunction(\n",
              "                'suggestCharts', [key], {});\n",
              "          } catch (error) {\n",
              "            console.error('Error during call to suggestCharts:', error);\n",
              "          }\n",
              "          quickchartButtonEl.classList.remove('colab-df-spinner');\n",
              "          quickchartButtonEl.classList.add('colab-df-quickchart-complete');\n",
              "        }\n",
              "        (() => {\n",
              "          let quickchartButtonEl =\n",
              "            document.querySelector('#df-d755754a-049d-4bb0-be2d-550eeb953e43 button');\n",
              "          quickchartButtonEl.style.display =\n",
              "            google.colab.kernel.accessAllowed ? 'block' : 'none';\n",
              "        })();\n",
              "      </script>\n",
              "    </div>\n",
              "\n",
              "    </div>\n",
              "  </div>\n"
            ],
            "application/vnd.google.colaboratory.intrinsic+json": {
              "type": "dataframe",
              "variable_name": "data",
              "summary": "{\n  \"name\": \"data\",\n  \"rows\": 1000,\n  \"fields\": [\n    {\n      \"column\": \"Trip_Distance_km\",\n      \"properties\": {\n        \"dtype\": \"number\",\n        \"std\": 19.905299790562722,\n        \"min\": 1.23,\n        \"max\": 146.0670471598387,\n        \"num_unique_values\": 867,\n        \"samples\": [\n          39.04,\n          19.37,\n          49.36\n        ],\n        \"semantic_type\": \"\",\n        \"description\": \"\"\n      }\n    },\n    {\n      \"column\": \"Passenger_Count\",\n      \"properties\": {\n        \"dtype\": \"number\",\n        \"std\": 1.1022491262257013,\n        \"min\": 1.0,\n        \"max\": 4.0,\n        \"num_unique_values\": 4,\n        \"samples\": [\n          1.0,\n          2.0,\n          3.0\n        ],\n        \"semantic_type\": \"\",\n        \"description\": \"\"\n      }\n    },\n    {\n      \"column\": \"Base_Fare\",\n      \"properties\": {\n        \"dtype\": \"number\",\n        \"std\": 0.8701619278680248,\n        \"min\": 2.01,\n        \"max\": 5.0,\n        \"num_unique_values\": 290,\n        \"samples\": [\n          3.35,\n          3.62,\n          4.13\n        ],\n        \"semantic_type\": \"\",\n        \"description\": \"\"\n      }\n    },\n    {\n      \"column\": \"Per_Km_Rate\",\n      \"properties\": {\n        \"dtype\": \"number\",\n        \"std\": 0.4298158687087343,\n        \"min\": 0.5,\n        \"max\": 2.0,\n        \"num_unique_values\": 150,\n        \"samples\": [\n          0.96,\n          0.82,\n          1.99\n        ],\n        \"semantic_type\": \"\",\n        \"description\": \"\"\n      }\n    },\n    {\n      \"column\": \"Per_Minute_Rate\",\n      \"properties\": {\n        \"dtype\": \"number\",\n        \"std\": 0.11559177133688461,\n        \"min\": 0.1,\n        \"max\": 0.5,\n        \"num_unique_values\": 41,\n        \"samples\": [\n          0.42,\n          0.25,\n          0.11\n        ],\n        \"semantic_type\": \"\",\n        \"description\": \"\"\n      }\n    },\n    {\n      \"column\": \"Trip_Duration_Minutes\",\n      \"properties\": {\n        \"dtype\": \"number\",\n        \"std\": 32.1544064686338,\n        \"min\": 5.01,\n        \"max\": 119.84,\n        \"num_unique_values\": 917,\n        \"samples\": [\n          72.77,\n          95.55,\n          109.95\n        ],\n        \"semantic_type\": \"\",\n        \"description\": \"\"\n      }\n    },\n    {\n      \"column\": \"Trip_Price\",\n      \"properties\": {\n        \"dtype\": \"number\",\n        \"std\": 40.46979055020966,\n        \"min\": 6.1269,\n        \"max\": 332.0436886774302,\n        \"num_unique_values\": 951,\n        \"samples\": [\n          31.3844,\n          97.4848,\n          19.1069\n        ],\n        \"semantic_type\": \"\",\n        \"description\": \"\"\n      }\n    }\n  ]\n}"
            }
          },
          "metadata": {},
          "execution_count": 14
        }
      ]
    },
    {
      "cell_type": "code",
      "source": [
        "data.info()"
      ],
      "metadata": {
        "colab": {
          "base_uri": "https://localhost:8080/"
        },
        "id": "Ex2QyMo8Tpal",
        "outputId": "1e691a2b-add9-48b3-e504-0c17568cba5b"
      },
      "execution_count": 17,
      "outputs": [
        {
          "output_type": "stream",
          "name": "stdout",
          "text": [
            "<class 'pandas.core.frame.DataFrame'>\n",
            "RangeIndex: 1000 entries, 0 to 999\n",
            "Data columns (total 7 columns):\n",
            " #   Column                 Non-Null Count  Dtype  \n",
            "---  ------                 --------------  -----  \n",
            " 0   Trip_Distance_km       950 non-null    float64\n",
            " 1   Passenger_Count        950 non-null    float64\n",
            " 2   Base_Fare              950 non-null    float64\n",
            " 3   Per_Km_Rate            950 non-null    float64\n",
            " 4   Per_Minute_Rate        950 non-null    float64\n",
            " 5   Trip_Duration_Minutes  950 non-null    float64\n",
            " 6   Trip_Price             951 non-null    float64\n",
            "dtypes: float64(7)\n",
            "memory usage: 54.8 KB\n"
          ]
        }
      ]
    },
    {
      "cell_type": "code",
      "source": [
        "data.info()"
      ],
      "metadata": {
        "colab": {
          "base_uri": "https://localhost:8080/"
        },
        "id": "ehg4wclfT1Pd",
        "outputId": "889b6c35-07ea-43de-d625-4a1c143c55cc"
      },
      "execution_count": 21,
      "outputs": [
        {
          "output_type": "stream",
          "name": "stdout",
          "text": [
            "<class 'pandas.core.frame.DataFrame'>\n",
            "Index: 700 entries, 0 to 998\n",
            "Data columns (total 7 columns):\n",
            " #   Column                 Non-Null Count  Dtype  \n",
            "---  ------                 --------------  -----  \n",
            " 0   Trip_Distance_km       700 non-null    float64\n",
            " 1   Passenger_Count        700 non-null    float64\n",
            " 2   Base_Fare              700 non-null    float64\n",
            " 3   Per_Km_Rate            700 non-null    float64\n",
            " 4   Per_Minute_Rate        700 non-null    float64\n",
            " 5   Trip_Duration_Minutes  700 non-null    float64\n",
            " 6   Trip_Price             700 non-null    float64\n",
            "dtypes: float64(7)\n",
            "memory usage: 43.8 KB\n"
          ]
        }
      ]
    },
    {
      "cell_type": "code",
      "source": [
        "import statsmodels.api as sm\n",
        "X = data.drop(columns=['Trip_Price'])\n",
        "y = data['Trip_Price']\n",
        "\n",
        "X = sm.add_constant(X)\n",
        "\n",
        "# membuat model\n",
        "model = sm.OLS(y, X).fit()\n",
        "\n",
        "print(model.summary())"
      ],
      "metadata": {
        "colab": {
          "base_uri": "https://localhost:8080/"
        },
        "id": "NaIabAEQV-2E",
        "outputId": "0ea7ad55-178b-4ba3-bf7d-14bddfb9747b"
      },
      "execution_count": 23,
      "outputs": [
        {
          "output_type": "stream",
          "name": "stdout",
          "text": [
            "                            OLS Regression Results                            \n",
            "==============================================================================\n",
            "Dep. Variable:             Trip_Price   R-squared:                       0.887\n",
            "Model:                            OLS   Adj. R-squared:                  0.886\n",
            "Method:                 Least Squares   F-statistic:                     903.9\n",
            "Date:                Sun, 26 Oct 2025   Prob (F-statistic):          9.88e-324\n",
            "Time:                        07:08:36   Log-Likelihood:                -2842.6\n",
            "No. Observations:                 700   AIC:                             5699.\n",
            "Df Residuals:                     693   BIC:                             5731.\n",
            "Df Model:                           6                                         \n",
            "Covariance Type:            nonrobust                                         \n",
            "=========================================================================================\n",
            "                            coef    std err          t      P>|t|      [0.025      0.975]\n",
            "-----------------------------------------------------------------------------------------\n",
            "const                   -58.5364      3.339    -17.532      0.000     -65.092     -51.981\n",
            "Trip_Distance_km          1.7599      0.026     67.630      0.000       1.709       1.811\n",
            "Passenger_Count          -0.2101      0.489     -0.429      0.668      -1.171       0.751\n",
            "Base_Fare                 0.6045      0.617      0.980      0.328      -0.607       1.816\n",
            "Per_Km_Rate              24.6430      1.248     19.741      0.000      22.192      27.094\n",
            "Per_Minute_Rate          60.2345      4.602     13.089      0.000      51.199      69.270\n",
            "Trip_Duration_Minutes     0.2945      0.017     17.676      0.000       0.262       0.327\n",
            "==============================================================================\n",
            "Omnibus:                      522.466   Durbin-Watson:                   2.028\n",
            "Prob(Omnibus):                  0.000   Jarque-Bera (JB):            14759.527\n",
            "Skew:                           3.011   Prob(JB):                         0.00\n",
            "Kurtosis:                      24.674   Cond. No.                         682.\n",
            "==============================================================================\n",
            "\n",
            "Notes:\n",
            "[1] Standard Errors assume that the covariance matrix of the errors is correctly specified.\n"
          ]
        }
      ]
    },
    {
      "cell_type": "markdown",
      "source": [
        "Y = -58.5364 + 1.7599Trip_Distance_km -0.2101Passenger_Count+0.6045Base_Fare + 24.6430Per_Km_Rate + 60.2345Per_Minute_Rate + 0.2945Trip_Duration_Minutes"
      ],
      "metadata": {
        "id": "YgULGjW6WV25"
      }
    },
    {
      "cell_type": "markdown",
      "source": [
        "R square = 0.887 -> variabel2 independen dapat menjelaskan 88,7% variansi dari tip taksi, 13% lainnya dijelaskan oleh variabel lain"
      ],
      "metadata": {
        "id": "S7IF2rtna57K"
      }
    },
    {
      "cell_type": "markdown",
      "source": [
        "\n",
        "# Soal 7\n",
        "* Lakukan simulasi yang memodelkan perubahan ketinggian pada tangki\n",
        "dengan 1 keran inlet dan 1 keran outlet, di mana simulasi dilakukan selama 10 detik. kran inlet di buka 5% pada detik ke 3 hingga detik ke 8, dan kran outlet terbuka 20% pada detik ke 3 sampai detik ke 5. Diketahui luas permukaan tangki 2 m^2, massa jenis air 1000 kg/m^3, dan konstanta aliran air 50 kgm/s^2 (buat fungsi nya, selesaikan dengan odeint, lalu visualisasikan hasil simulasi)\n",
        "\n",
        "* Lakukan analisis mengenai keadaan air di dalam tangki selama proses simulasi"
      ],
      "metadata": {
        "id": "Fpy4k70nq2aj"
      }
    },
    {
      "cell_type": "markdown",
      "source": [
        "Rumus :\n",
        "$$\n",
        "\\frac{dh}{dt} = \\frac{c(u_i - u_o)}{\\rho A}\n",
        "$$\n",
        "\n",
        "\\\n",
        "\\begin{aligned}\n",
        "h & : \\text{tinggi permukaan air dalam tangki (m)} \\\\\n",
        "t & : \\text{waktu (s)} \\\\\n",
        "c & : \\text{konstanta aliran air (kg·m/s²)} \\\\\n",
        "u_i & : \\text{besar bukaan kran inlet} \\\\\n",
        "u_o & : \\text{besar bukaan kran outlet} \\\\\n",
        "\\rho & : \\text{massa jenis air (kg/m³)} \\\\\n",
        "A & : \\text{luas alas tangki (m²)}\n",
        "\\end{aligned}"
      ],
      "metadata": {
        "id": "V7tcBk1asyGW"
      }
    },
    {
      "cell_type": "code",
      "source": [
        "import matplotlib.pyplot as plt\n",
        "from scipy.integrate import odeint"
      ],
      "metadata": {
        "id": "hO1npgHSuAYk"
      },
      "execution_count": 28,
      "outputs": []
    },
    {
      "cell_type": "code",
      "source": [
        "# memuat model sistem dinamis di dalam function bernama tank\n",
        "''''\n",
        "Fungsi ini berisi rumus sistem dinamis tangki. terdapat 5 parameter/input dalam fungsi ini, yaitu:\n",
        "- h : ketinggian air saat ini (meter)\n",
        "- time : waktu yang ingin disimulasikan (sekon)\n",
        "- c : konstanta aliran air\n",
        "- inlet : besar bukaan kran inlet\n",
        "- outlet : besar bukaan kran outlet\n",
        "\n",
        "di fungsi ini, terdapat 2 konstanta yaitu rho (massa jenis air = 1000 kg/m^3)\n",
        "dan A (luas alas tangki = 1 m^2)\n",
        "'''\n",
        "def tank(h, time, c, inlet, outlet):\n",
        "  rho = 1000.0\n",
        "  A = 2.0\n",
        "  dh_dt = c*(inlet-outlet)/(rho * A)\n",
        "  return dh_dt"
      ],
      "metadata": {
        "id": "5A7eTC37s1Fv"
      },
      "execution_count": 26,
      "outputs": []
    },
    {
      "cell_type": "code",
      "source": [
        "ts= np.linspace(0,10,101)\n",
        "# membuat variabel yg memuat kondisi kran inlet dan outlet sepanjang waktu\n",
        "''''\n",
        "menggunakan fungsi zeros() dari numpy\n",
        "\n",
        "np.zeros(num)\n",
        "= membuat array berisi angka 0 sebanyak num elemen.\n",
        "\n",
        "'''\n",
        "ki = np.zeros(101)\n",
        "ko = np.zeros(101)\n",
        "\n",
        "# inisialisasi kondisi kran inlet dan outlet\n",
        "''''\n",
        "kran outlet dibuka 20% pada saat 3 ≤ t ≤ 5. Kran inlet dibuka 5% saat 3 ≤ t ≤ 8\n",
        "'''\n",
        "ko[40:51] = 20.0\n",
        "ki[30:81] = 5.0"
      ],
      "metadata": {
        "id": "HNGjP1ketYme"
      },
      "execution_count": 34,
      "outputs": []
    },
    {
      "cell_type": "code",
      "source": [
        "# initial state\n",
        "h = 0.0  # kan awalnya tangki kosong\n",
        "c = 50.0 # konstanta laju air 50\n",
        "z = np.zeros(101) # membuat variabel z berisi 101 array kosong untuk menyimpan hasil simulasi\n",
        "\n",
        "\n",
        "# simulasi dgn ODEINT\n",
        "# odeint(function, variabel_yg_berubah, t, args = )\n",
        "for i in range(100):\n",
        "    inlet = ki[i + 1]\n",
        "    outlet = ko[i + 1]\n",
        "    y = odeint(tank, h, [0, 0.1], args=(c, inlet, outlet))\n",
        "    h = max(y[-1][0], 0) #menyimpan hasil ketinggian air tangki dalam 1\n",
        "    z[i + 1] = h\n"
      ],
      "metadata": {
        "id": "V4MszHKSts0w"
      },
      "execution_count": 35,
      "outputs": []
    },
    {
      "cell_type": "code",
      "source": [
        "# plot results\n",
        "\n",
        "#kanvas\n",
        "plt.figure()\n",
        "\n",
        "# membuat subplot\n",
        "# plt.subplot (baris, kolom, indeks)  *klo di matplotlib indeks nya dari 1\n",
        "\n",
        "# 1. subplot berisi kondisi ketinggian air sepanjang waktu (x= time_span, y=z)\n",
        "plt.subplot(2,1,1)\n",
        "plt.plot(ts,z, 'b')\n",
        "plt.ylabel(\"ketinggian air (m)\")\n",
        "\n",
        "# 2. subplot berisi kondisi bukaan kran sepanjang waktu (x= time_span, y = ki dan ko)\n",
        "plt.subplot(2,1, 2)\n",
        "plt.plot(ts, ki, 'r--', label='inlet' ) #ki\n",
        "plt.plot(ts, ko, 'g--', label='outlet') #ko\n",
        "plt.ylabel('besar bukaan kran')\n",
        "plt.xlabel('waktu (s)')\n",
        "\n",
        "plt.legend(frameon=False)\n",
        "\n",
        "plt.show()"
      ],
      "metadata": {
        "colab": {
          "base_uri": "https://localhost:8080/",
          "height": 449
        },
        "id": "G7N6MlkcuGU0",
        "outputId": "3fbacefa-46f7-47d1-8d6c-e8340dccc823"
      },
      "execution_count": 36,
      "outputs": [
        {
          "output_type": "display_data",
          "data": {
            "text/plain": [
              "<Figure size 640x480 with 2 Axes>"
            ],
            "image/png": "[encoded data removed]"
          },
          "metadata": {}
        }
      ]
    },
    {
      "cell_type": "markdown",
      "source": [
        "# Soal 8"
      ],
      "metadata": {
        "id": "vOOlv5_6whxb"
      }
    },
    {
      "cell_type": "markdown",
      "source": [
        "Sebuah sensor otomatis di Waduk Cengklik mencatat ketinggian permukaan air (dalam meter) pada jam-jam tertentu dalam satu hari. Namun, karena ada gangguan sinyal, sensor gagal mengirimkan data pada jam 10:00.\n",
        "\n",
        "Bantu pihak waduk untuk mengestimasi ketinggian air pada jam 10:00 tersebut menggunakan data yang berhasil terekam."
      ],
      "metadata": {
        "id": "SBNhTuShJeGv"
      }
    },
    {
      "cell_type": "code",
      "source": [
        "import numpy as np\n",
        "from scipy.interpolate import CubicSpline\n",
        "import matplotlib.pyplot as plt\n",
        "\n",
        "#\n",
        "x_known = np.array([0, 6, 12, 18])\n",
        "y_known = np.array([105.2, 104.8, 106.1, 105.7])\n",
        "jam_estimasi = 10\n",
        "\n",
        "# 3. Buat fungsi\n",
        "f_cubic = CubicSpline(x_known, y_known)\n",
        "\n",
        "# 4. Lakukan estimasi pada jam_estimasi\n",
        "estimasi_ketinggian = f_cubic(jam_estimasi)\n",
        "\n",
        "print(f\"Estimasi ketinggian air pada jam {jam_estimasi}:00 adalah: {estimasi_ketinggian:.2f} meter\")\n",
        "\n",
        "# 5. Visualisasi Hasil\n",
        "x_new = np.linspace(0, 18, 100)\n",
        "y_new = f_cubic(x_new)\n",
        "\n",
        "plt.figure(figsize=(10, 6))\n",
        "plt.plot(x_known, y_known, 'o', markersize=8, label='Data Asli Sensor')\n",
        "plt.plot(x_new, y_new, '-', label='Kurva Interpolasi Kubik')\n",
        "\n",
        "plt.plot(jam_estimasi, estimasi_ketinggian, 'X', color='red', markersize=12, label=f'Estimasi Jam 10:00 ({estimasi_ketinggian:.2f} m)')\n",
        "plt.title('Estimasi Ketinggian Air Waduk')\n",
        "plt.xlabel('Jam ke-')\n",
        "plt.ylabel('Ketinggian Air (meter)')\n",
        "plt.legend()\n",
        "plt.grid(True)\n",
        "plt.show()"
      ],
      "metadata": {
        "colab": {
          "base_uri": "https://localhost:8080/",
          "height": 582
        },
        "id": "Q8OHVXbUwjK0",
        "outputId": "3a3be1d9-fa22-4a7e-8d52-583620457fd1"
      },
      "execution_count": 37,
      "outputs": [
        {
          "output_type": "stream",
          "name": "stdout",
          "text": [
            "Estimasi ketinggian air pada jam 10:00 adalah: 105.69 meter\n"
          ]
        },
        {
          "output_type": "display_data",
          "data": {
            "text/plain": [
              "<Figure size 1000x600 with 1 Axes>"
            ],
            "image/png": "[encoded data removed]"
          },
          "metadata": {}
        }
      ]
    },
    {
      "cell_type": "markdown",
      "source": [
        "# Soal 9\n",
        "Sebuah pabrik memproduksi baut dalam jumlah besar. Diketahui bahwa probabilitas satu baut mengalami cacat produksi (misalnya, ulir tidak sempurna) adalah 0.08%. Pabrik tersebut mengemas baut dalam kotak-kotak besar berisi 400 baut.Misalkan $X$ adalah jumlah baut yang cacat dalam satu kotak.\n",
        "* Bagaimana distribusi Probability Mass Function (PMF) untuk $X$?\n",
        "* Berapakah peluang bahwa dalam satu kotak yang dipilih acak, terdapat tepat 4 baut yang cacat?\n",
        "\n",
        "Hitung dengan pendekatan distribusi probabilitas Poisson untuk menyelesaikan kasus ini"
      ],
      "metadata": {
        "id": "uRkadF2IJFrd"
      }
    },
    {
      "cell_type": "code",
      "source": [
        "# visualisasi PMF dari distribusi possion\n",
        "from scipy import stats\n",
        "x = np.arange(0, 401) # bikin sumbu x sebanyak dari 1-100\n",
        "mu = 0.08*400\n",
        "pmf = stats.poisson.pmf(x, mu) #menghitung PMF nya. syntax = stats.poisson.pmf(x,mu) mu itu lambda\n",
        "plt.stem(x, pmf,  basefmt=' ')\n",
        "plt.show()"
      ],
      "metadata": {
        "colab": {
          "base_uri": "https://localhost:8080/",
          "height": 430
        },
        "id": "KQeT_-NgKYMB",
        "outputId": "7de143c0-98ff-496f-f84e-41621927b39f"
      },
      "execution_count": 39,
      "outputs": [
        {
          "output_type": "display_data",
          "data": {
            "text/plain": [
              "<Figure size 640x480 with 1 Axes>"
            ],
            "image/png": "[encoded data removed]"
          },
          "metadata": {}
        }
      ]
    },
    {
      "cell_type": "code",
      "source": [
        "from scipy.stats import poisson\n",
        "import matplotlib.pyplot as plt\n",
        "import numpy as np\n",
        "\n",
        "# Peluang terdapat 4 baut yang cacat\n",
        "n = 400  # jumlah baut\n",
        "p = 0.08\n",
        "\n",
        "pmf = stats.poisson.pmf(k=4, mu=mu)\n",
        "print(pmf)\n"
      ],
      "metadata": {
        "colab": {
          "base_uri": "https://localhost:8080/"
        },
        "id": "0qeF0XESJy5P",
        "outputId": "859d72c2-dd52-4cdf-e4e4-aa39551f5e15"
      },
      "execution_count": 45,
      "outputs": [
        {
          "output_type": "stream",
          "name": "stdout",
          "text": [
            "5.533058356169565e-10\n"
          ]
        }
      ]
    }
  ]
}